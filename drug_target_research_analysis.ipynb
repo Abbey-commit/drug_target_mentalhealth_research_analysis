{
 "cells": [
  {
   "cell_type": "code",
   "execution_count": 1,
   "id": "f34b737c-235b-4180-9864-39834ed9447f",
   "metadata": {},
   "outputs": [],
   "source": [
    "import pandas as pd"
   ]
  },
  {
   "cell_type": "code",
   "execution_count": 3,
   "id": "368ae2e4-9542-49a5-a352-5bb59d12908d",
   "metadata": {},
   "outputs": [
    {
     "data": {
      "text/plain": [
       "Drug Name              0\n",
       "Drug Class             0\n",
       "Target                 0\n",
       "Mechanism of Action    0\n",
       "Indication             0\n",
       "Approval Year          0\n",
       "Common Side Effects    0\n",
       "Relevant Studies       0\n",
       "dtype: int64"
      ]
     },
     "execution_count": 3,
     "metadata": {},
     "output_type": "execute_result"
    }
   ],
   "source": [
    "# Load the dataset\n",
    "dataset = pd.read_csv('mental_health_drugs_full_dataset.csv')\n",
    "\n",
    "# Check for missing values\n",
    "missing_values = dataset.isnull().sum()\n",
    "missing_values"
   ]
  },
  {
   "cell_type": "code",
   "execution_count": 4,
   "id": "eda15422-e99b-4738-865c-d751a7eba880",
   "metadata": {},
   "outputs": [],
   "source": [
    "dataset.drop_duplicates(inplace=True)"
   ]
  },
  {
   "cell_type": "code",
   "execution_count": 6,
   "id": "f36ec7bd-4320-4d34-9fab-3c63b8b4dd2e",
   "metadata": {},
   "outputs": [
    {
     "data": {
      "text/plain": [
       "(Drug Class\n",
       " SARI                      83\n",
       " NDRI                      76\n",
       " Atypical Antipsychotic    75\n",
       " Anxiolytic                75\n",
       " SSRI                      70\n",
       " NaSSA                     61\n",
       " TCA                       60\n",
       " Name: count, dtype: int64,\n",
       " Indication\n",
       " Panic Disorder         74\n",
       " Bipolar Disorder       71\n",
       " Anxiety                69\n",
       " Depression             65\n",
       " Schizophrenia          57\n",
       " Generalized Anxiety    57\n",
       " Insomnia               54\n",
       " OCD                    53\n",
       " Name: count, dtype: int64)"
      ]
     },
     "execution_count": 6,
     "metadata": {},
     "output_type": "execute_result"
    }
   ],
   "source": [
    "# Frequency count for drug classes\n",
    "drug_class_counts = dataset['Drug Class'].value_counts()\n",
    "\n",
    "# Indications count\n",
    "indication_counts = dataset['Indication'].value_counts()\n",
    "\n",
    "drug_class_counts, indication_counts"
   ]
  },
  {
   "cell_type": "markdown",
   "id": "e91a33cb-c53e-4a88-b892-d7183579f964",
   "metadata": {},
   "source": [
    "#### Comparative Effectiveness"
   ]
  },
  {
   "cell_type": "code",
   "execution_count": 9,
   "id": "d121e6ba-b77e-4e54-abc5-6f300908c59e",
   "metadata": {},
   "outputs": [
    {
     "data": {
      "text/plain": [
       "Drug Class\n",
       "Anxiolytic                [Somolence, Diarrhea, Weight Gain, Fatigue, Dr...\n",
       "Atypical Antipsychotic    [Nursea, Insomnia, Somolence, Headache, Nursea...\n",
       "NDRI                      [Nursea, Nursea, Weight Gain, Headache, Insomn...\n",
       "NaSSA                     [Insomnia, Dry Mouth, Nursea, Nursea, Somolenc...\n",
       "SARI                      [Nursea, Weight Gain, Insomnia, Fatigue, Akath...\n",
       "SSRI                      [Diarrhea, Somolence, Insomnia, Diarrhea, Nurs...\n",
       "TCA                       [Diarrhea, Somolence, Drowsiness, Fatigue, Wei...\n",
       "Name: Common Side Effects, dtype: object"
      ]
     },
     "execution_count": 9,
     "metadata": {},
     "output_type": "execute_result"
    }
   ],
   "source": [
    "# Aggregate side effect per drug class\n",
    "side_effects_summary = dataset.groupby('Drug Class')['Common Side Effects'].apply(list)\n",
    "side_effects_summary"
   ]
  },
  {
   "cell_type": "markdown",
   "id": "401f0d48-a2bf-4201-88b7-0441962863ef",
   "metadata": {},
   "source": [
    "#### Correlation Analysis"
   ]
  },
  {
   "cell_type": "code",
   "execution_count": 14,
   "id": "cc84892c-a8e0-44bf-b100-216fe952029a",
   "metadata": {},
   "outputs": [],
   "source": [
    "# Create a numeric dataframe (potentially useful numeric fields)\n",
    "numeric_data = pd.DataFrame({\n",
    "    'Approval Year': dataset['Approval Year']\n",
    "})"
   ]
  },
  {
   "cell_type": "code",
   "execution_count": 16,
   "id": "3b3566e7-be81-4551-9f0c-b150f2b2e782",
   "metadata": {},
   "outputs": [
    {
     "data": {
      "image/png": "[encoded data removed]",
      "text/plain": [
       "<Figure size 800x500 with 2 Axes>"
      ]
     },
     "metadata": {},
     "output_type": "display_data"
    }
   ],
   "source": [
    "import seaborn as sns\n",
    "import matplotlib.pyplot as plt\n",
    "\n",
    "# Visualizing the correlation of side effects (assumed numerical coding of side effects)\n",
    "correlation_matrix = numeric_data.corr()\n",
    "plt.figure(figsize=(8, 5))\n",
    "sns.heatmap(correlation_matrix, annot=True, cmap='coolwarm')\n",
    "plt.title('Correlation Matrix')\n",
    "plt.show()"
   ]
  },
  {
   "cell_type": "code",
   "execution_count": null,
   "id": "48f2a39b-7007-4ff3-b2c5-f9d9ede260fb",
   "metadata": {},
   "outputs": [],
   "source": []
  }
 ],
 "metadata": {
  "kernelspec": {
   "display_name": "Python 3 (ipykernel)",
   "language": "python",
   "name": "python3"
  },
  "language_info": {
   "codemirror_mode": {
    "name": "ipython",
    "version": 3
   },
   "file_extension": ".py",
   "mimetype": "text/x-python",
   "name": "python",
   "nbconvert_exporter": "python",
   "pygments_lexer": "ipython3",
   "version": "3.12.7"
  }
 },
 "nbformat": 4,
 "nbformat_minor": 5
}
