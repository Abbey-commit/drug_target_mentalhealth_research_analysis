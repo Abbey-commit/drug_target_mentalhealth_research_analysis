{
 "cells": [
  {
   "cell_type": "code",
   "execution_count": 1,
   "id": "651f69bd-d5fe-4cfb-b848-10519641a7ca",
   "metadata": {},
   "outputs": [
    {
     "data": {
      "text/plain": [
       "'C:/Users/user/datasets/fmri_brain_dataset_open_neuro/simulated_drug_target_4_mh/gpt_simulated_mental_health_drug_targets.csv'"
      ]
     },
     "execution_count": 1,
     "metadata": {},
     "output_type": "execute_result"
    }
   ],
   "source": [
    "# Re-import necessary libraries due to execution state reset\n",
    "import pandas as pd\n",
    "import random\n",
    "\n",
    "# Define expanded dataset size\n",
    "num_entries = 1000\n",
    "\n",
    "# Possible values for dataset attributes\n",
    "conditions = [\"Depression\", \"Anxiety\", \"Psychosis\"]\n",
    "therapeutic_classes = [\"SSRI\", \"SNRI\", \"NDRI\", \"NaSSA\", \"Benzodiazepine\", \"Beta-Blocker\", \n",
    "                        \"Atypical Antipsychotic\", \"Glutamatergic Modulator\", \"Psychedelic\", \n",
    "                        \"Orexin Antagonist\", \"Glycine Modulator\", \"Azapirone\"]\n",
    "trial_phases = [\"Approved\", \"Phase 1\", \"Phase 2\", \"Phase 3\", \"Preclinical\"]\n",
    "status_options = [\"Approved\", \"Investigational\", \"Experimental\"]\n",
    "\n",
    "# Generate synthetic dataset\n",
    "expanded_data = pd.DataFrame({\n",
    "    \"Drug_Name\": [f\"Drug_{i}\" for i in range(1, num_entries + 1)],\n",
    "    \"Target_Gene\": [f\"Gene_{random.randint(1, 500)}\" for _ in range(num_entries)],\n",
    "    \"Target_Protein\": [f\"Protein_{random.randint(1, 300)}\" for _ in range(num_entries)],\n",
    "    \"Condition\": [random.choice(conditions) for _ in range(num_entries)],\n",
    "    \"Therapeutic_Class\": [random.choice(therapeutic_classes) for _ in range(num_entries)],\n",
    "    \"Mechanism_of_Action\": [f\"Mechanism_{random.randint(1, 200)}\" for _ in range(num_entries)],\n",
    "    \"Clinical_Trial_Phase\": [random.choice(trial_phases) for _ in range(num_entries)],\n",
    "    \"Status\": [random.choice(status_options) for _ in range(num_entries)]\n",
    "})\n",
    "\n",
    "# Save the expanded dataset\n",
    "expanded_file_path = \"C:/Users/user/datasets/fmri_brain_dataset_open_neuro/simulated_drug_target_4_mh/gpt_simulated_mental_health_drug_targets.csv\"\n",
    "expanded_data.to_csv(expanded_file_path, index=False)\n",
    "\n",
    "expanded_file_path\n"
   ]
  },
  {
   "cell_type": "code",
   "execution_count": null,
   "id": "2fba338d-46ec-4e48-9d9c-1f158d80d75f",
   "metadata": {},
   "outputs": [],
   "source": []
  }
 ],
 "metadata": {
  "kernelspec": {
   "display_name": "Python 3 (ipykernel)",
   "language": "python",
   "name": "python3"
  },
  "language_info": {
   "codemirror_mode": {
    "name": "ipython",
    "version": 3
   },
   "file_extension": ".py",
   "mimetype": "text/x-python",
   "name": "python",
   "nbconvert_exporter": "python",
   "pygments_lexer": "ipython3",
   "version": "3.12.7"
  }
 },
 "nbformat": 4,
 "nbformat_minor": 5
}
